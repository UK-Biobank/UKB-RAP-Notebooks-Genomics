{
 "cells": [
  {
   "cell_type": "markdown",
   "metadata": {},
   "source": [
    "# Functional annotations for variants\n",
    "\n",
    "This notebook show how to use the genome annotations and gene models to translate the variant genomic coordinates into functional annotations.\n",
    "\n",
    "\n",
    "- runtime: 30m\n",
    "- recommended instance: mem1_ssd1_v2_x16\n",
    "- estimated cost: <£0.70\n",
    "\n",
    "This notebook depends on:\n",
    "* **Bioconductor install**\n",
    "* **Notebook 203** - height_signif_snp.csv"
   ]
  },
  {
   "cell_type": "markdown",
   "metadata": {},
   "source": [
    "## Install required R packages\n",
    "\n",
    "Function `p_load` from `pacman` loads packages into R.\n",
    "If a given package missing it will be automatically installed - this can take a considerable amount of time for packages that need C or FORTRAN code compilation.\n",
    "\n",
    "The following packages are needed to run this notebook:\n",
    "\n",
    "- `dplyr` - tabular data manipulation in R, require to pre-process and filtering of phenotypic data\n",
    "- `readr` - read and write tabular file formats: CSV, TsSV, TDF, etc.\n",
    "- `skimr` - provide summary statistics about variables in data frames, `tibble` structures, data tables and vectors\n",
    "- `gprofiler2` - A tool set for functional enrichment analysis and visualization of genes and variants\n",
    "- `VariantAnnotation` - Bioconductor package for variant annotations \n",
    "- `TxDb.Hsapiens.UCSC.hg38.knownGene` - gene position for hg38 human genome release\n",
    "- `BSgenome.Hsapiens.UCSC.hg38` - the DNA sequence of hg38 human genome release\n",
    "\n"
   ]
  },
  {
   "cell_type": "code",
   "execution_count": null,
   "metadata": {
    "tags": [],
    "vscode": {
     "languageId": "r"
    }
   },
   "outputs": [],
   "source": [
    "if(!require(pacman)) install.packages(\"pacman\")\n",
    "pacman::p_load(dplyr, skimr, readr, gprofiler2)"
   ]
  },
  {
   "cell_type": "code",
   "execution_count": null,
   "metadata": {
    "tags": [],
    "vscode": {
     "languageId": "r"
    }
   },
   "outputs": [],
   "source": [
    "# Install BioConductor contingent on R version\n",
    "if(as.double(R.version$minor) < 3.0) {version <- '3.16'} else {version <- '3.17'}\n",
    "\n",
    "if(!require(GenomicRanges)) BiocManager::install(\"GenomicRanges\", version=version, ask=FALSE)\n",
    "if(!require(VariantAnnotation)) BiocManager::install(\"VariantAnnotation\", version=version, ask=FALSE)\n",
    "if(!require(TxDb.Hsapiens.UCSC.hg38.knownGene)) BiocManager::install(\"TxDb.Hsapiens.UCSC.hg38.knownGene\", version=version, ask=FALSE)\n",
    "if(!require(BSgenome.Hsapiens.UCSC.hg38)) BiocManager::install(\"BSgenome.Hsapiens.UCSC.hg38\", version=version, ask=FALSE)"
   ]
  },
  {
   "cell_type": "code",
   "execution_count": 3,
   "metadata": {
    "tags": [],
    "vscode": {
     "languageId": "r"
    }
   },
   "outputs": [],
   "source": [
    "pacman::p_load(TxDb.Hsapiens.UCSC.hg38.knownGene, BSgenome.Hsapiens.UCSC.hg38, VariantAnnotation, GenomicRanges)"
   ]
  },
  {
   "cell_type": "markdown",
   "metadata": {},
   "source": [
    "## Load output of GWAS"
   ]
  },
  {
   "cell_type": "markdown",
   "metadata": {},
   "source": [
    "In the first step, we get a list of variants. In the following example, we use the list of significant variants from GWAS on participant height example from **Notebook 203**."
   ]
  },
  {
   "cell_type": "code",
   "execution_count": null,
   "metadata": {
    "tags": [],
    "vscode": {
     "languageId": "r"
    }
   },
   "outputs": [],
   "source": [
    "system('dx download gwas/height_signif_snp.csv')\n",
    "snp <- readr::read_csv('./height_signif_snp.csv', show_col_types = FALSE)\n",
    "head(snp)"
   ]
  },
  {
   "cell_type": "markdown",
   "metadata": {},
   "source": [
    "## Construct the GenomicRanges object from the list of variants"
   ]
  },
  {
   "cell_type": "markdown",
   "metadata": {},
   "source": [
    "In this step, we use the genomic coordinates (chromosome and physical position) of variants to construct the GenomicRanges object."
   ]
  },
  {
   "cell_type": "code",
   "execution_count": 5,
   "metadata": {
    "tags": [],
    "vscode": {
     "languageId": "r"
    }
   },
   "outputs": [],
   "source": [
    "snp_gr <- makeGRangesFromDataFrame(\n",
    "    snp, \n",
    "    seqnames.field = 'chromosome', \n",
    "    start.field = 'physical.pos', \n",
    "    end.field = 'physical.pos', \n",
    "    keep.extra.columns = TRUE)"
   ]
  },
  {
   "cell_type": "markdown",
   "metadata": {},
   "source": [
    "The GRanges object consists of 3 mandatory fields: `seqnames` - the name of the chromosome, `ranges` - position on the chromosome and `strand` - the strand, where `*` denote any strand.\n",
    "In addition, there can be an arbitrary number of additional annotation fields. We use them to store marker ID, the information about alleles and statistics from GWAS analysis. "
   ]
  },
  {
   "cell_type": "code",
   "execution_count": null,
   "metadata": {
    "tags": [],
    "vscode": {
     "languageId": "r"
    }
   },
   "outputs": [],
   "source": [
    "head(snp_gr)"
   ]
  },
  {
   "cell_type": "markdown",
   "metadata": {},
   "source": [
    "Next, we convert a `GenomicRanges` structure to `VariantRanges` class.  `VRanges` structure is a specialized extension of `GRanges`, designed specifically to hold information about genomic variation. "
   ]
  },
  {
   "cell_type": "code",
   "execution_count": 7,
   "metadata": {
    "tags": [],
    "vscode": {
     "languageId": "r"
    }
   },
   "outputs": [],
   "source": [
    "vr <- VRanges(\n",
    "    seqnames = seqnames(snp_gr),\n",
    "    ranges = ranges(snp_gr),\n",
    "    ref = snp_gr$allele1, \n",
    "    alt = snp_gr$allele2)\n",
    "\n",
    "seqlevelsStyle(vr) <- seqlevelsStyle(TxDb.Hsapiens.UCSC.hg38.knownGene)"
   ]
  },
  {
   "cell_type": "code",
   "execution_count": null,
   "metadata": {
    "tags": [],
    "vscode": {
     "languageId": "r"
    }
   },
   "outputs": [],
   "source": [
    "head(vr)"
   ]
  },
  {
   "cell_type": "markdown",
   "metadata": {},
   "source": [
    "## Predict coding variants"
   ]
  },
  {
   "cell_type": "markdown",
   "metadata": {},
   "source": [
    "This function returns the amino acid coding for variants that fall completely `within' a coding region For further information on predictCoding click [here](https://www.rdocumentation.org/packages/VariantAnnotation/versions/1.18.5/topics/predictCoding)"
   ]
  },
  {
   "cell_type": "code",
   "execution_count": null,
   "metadata": {
    "tags": [],
    "vscode": {
     "languageId": "r"
    }
   },
   "outputs": [],
   "source": [
    "coding <- predictCoding(vr, TxDb.Hsapiens.UCSC.hg38.knownGene, BSgenome.Hsapiens.UCSC.hg38)\n",
    "head(coding)"
   ]
  },
  {
   "cell_type": "markdown",
   "metadata": {},
   "source": [
    "## Locate variants\n",
    "\n",
    "We can assess the variant location with respect to gene function [more info](https://www.rdocumentation.org/packages/VariantAnnotation/versions/1.18.5/topics/locateVariants). \n",
    "In the examples below we select a different classes of variants based on functional annotation."
   ]
  },
  {
   "cell_type": "markdown",
   "metadata": {},
   "source": [
    "###  Coding variants"
   ]
  },
  {
   "cell_type": "code",
   "execution_count": null,
   "metadata": {
    "tags": [],
    "vscode": {
     "languageId": "r"
    }
   },
   "outputs": [],
   "source": [
    "cds <- locateVariants(vr, TxDb.Hsapiens.UCSC.hg38.knownGene, CodingVariants())\n",
    "head(cds)"
   ]
  },
  {
   "cell_type": "markdown",
   "metadata": {},
   "source": [
    "### Five UTR variants"
   ]
  },
  {
   "cell_type": "code",
   "execution_count": null,
   "metadata": {
    "tags": [],
    "vscode": {
     "languageId": "r"
    }
   },
   "outputs": [],
   "source": [
    "five <- locateVariants(vr, TxDb.Hsapiens.UCSC.hg38.knownGene, FiveUTRVariants())\n",
    "head(five)"
   ]
  },
  {
   "cell_type": "markdown",
   "metadata": {},
   "source": [
    "### Variants overlapping splice sites"
   ]
  },
  {
   "cell_type": "code",
   "execution_count": null,
   "metadata": {
    "tags": [],
    "vscode": {
     "languageId": "r"
    }
   },
   "outputs": [],
   "source": [
    "splice <- locateVariants(vr, TxDb.Hsapiens.UCSC.hg38.knownGene, SpliceSiteVariants())\n",
    "head(splice)"
   ]
  },
  {
   "cell_type": "markdown",
   "metadata": {},
   "source": [
    "### Intronic variants"
   ]
  },
  {
   "cell_type": "code",
   "execution_count": null,
   "metadata": {
    "tags": [],
    "vscode": {
     "languageId": "r"
    }
   },
   "outputs": [],
   "source": [
    "intron <- locateVariants(vr, TxDb.Hsapiens.UCSC.hg38.knownGene, IntronVariants())\n",
    "head(intron)"
   ]
  },
  {
   "cell_type": "markdown",
   "metadata": {
    "vscode": {
     "languageId": "r"
    }
   },
   "source": [
    "head(intron)"
   ]
  },
  {
   "cell_type": "markdown",
   "metadata": {
    "vscode": {
     "languageId": "r"
    }
   },
   "source": [
    "## Summaries functional annotations\n",
    "\n",
    "We can summaries the number of the variants in functional classes"
   ]
  },
  {
   "cell_type": "code",
   "execution_count": null,
   "metadata": {
    "tags": [],
    "vscode": {
     "languageId": "r"
    }
   },
   "outputs": [],
   "source": [
    "lengths(list(cds=cds, five=five, splice=splice, intron=intron))"
   ]
  },
  {
   "cell_type": "markdown",
   "metadata": {},
   "source": [
    "## Get more info about coding genes\n",
    "\n",
    "This function will convert coding Gene IDs to Ensembl IDs, gene names and short functional descriptions."
   ]
  },
  {
   "cell_type": "code",
   "execution_count": null,
   "metadata": {
    "tags": [],
    "vscode": {
     "languageId": "r"
    }
   },
   "outputs": [],
   "source": [
    "gconvert(query = unique(coding$GENEID), organism = \"hsapiens\", numeric_ns = 'ENTREZGENE_ACC')"
   ]
  }
 ],
 "metadata": {
  "kernelspec": {
   "display_name": "R",
   "language": "R",
   "name": "ir"
  },
  "language_info": {
   "codemirror_mode": "r",
   "file_extension": ".r",
   "mimetype": "text/x-r-source",
   "name": "R",
   "pygments_lexer": "r",
   "version": "4.2.2"
  }
 },
 "nbformat": 4,
 "nbformat_minor": 4
}
