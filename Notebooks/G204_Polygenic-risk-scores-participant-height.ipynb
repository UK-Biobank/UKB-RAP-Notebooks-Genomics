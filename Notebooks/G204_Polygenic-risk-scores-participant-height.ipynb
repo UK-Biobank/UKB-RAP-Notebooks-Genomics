{
 "cells": [
  {
   "cell_type": "markdown",
   "id": "8fd62b6b",
   "metadata": {},
   "source": [
    "# Example polygenic risk scores: participant height\n",
    "\n",
    "> Polygenic scores are important tools for understanding complex genetic associations. In this notebook, we show how to derive polygenic scores based on summary statistics and a matrix of correlation between genetic variants. We will use R package bigsnpr that implements the LDpred2 method (https://doi.org/10.1093/bioinformatics/btaa1029).\n",
    "\n",
    "> As input, we will use the same data as in the previous GWAS examples. This notebook focus on a linear model using participant height data. In the next one, we will use a more complex example with logistic regression and blood pressure data. \n",
    "\n",
    "- runtime: 1h\n",
    "- recommended instance: mem1_ssd1_v2_x16\n",
    "- estimated cost: <£1.00\n",
    "\n",
    "This notebook depends on:\n",
    "* **Notebook 107** - maf_flt_8chroms* prefixed files"
   ]
  },
  {
   "cell_type": "markdown",
   "id": "a5c7aea8",
   "metadata": {},
   "source": [
    "## Install required packages\n",
    "\n",
    "Function `p_load` from `pacman` loads packages into R.\n",
    "If a given package missing it will be automatically installed - this can take a considerable amount of time for packages that need C or FORTRAN code compilation.\n",
    "\n",
    "The following packages are needed to run this notebook:\n",
    "\n",
    "- `dplyr` - tabular data manipulation in R, require to pre-process and filter phenotypic data\n",
    "- `parallel` - parallel computation in R\n",
    "- `bigsnpr` - run statistics on file-backed arrays, needed to calculate the approximate singular value decomposition (SVD) needed for PCA plots\n",
    "- `bigparallelr` - controls parallel computation using file-backed arrays\n",
    "- `ggplot2` - needed for graphics \n",
    "- `readxl` - read tabular readxl files"
   ]
  },
  {
   "cell_type": "code",
   "execution_count": null,
   "id": "b3e3bbb6",
   "metadata": {
    "tags": [],
    "vscode": {
     "languageId": "r"
    }
   },
   "outputs": [],
   "source": [
    "if(!require(pacman)) install.packages(\"pacman\")\n",
    "pacman::p_load(dplyr, bigsnpr, ggplot2, readr, tidyr, bigparallelr)"
   ]
  },
  {
   "cell_type": "markdown",
   "id": "ba964351",
   "metadata": {},
   "source": [
    "## Read the EIDs of individuals in the exome cohort from `.fam` file\n",
    "\n",
    "This can be created using **Notebook 107**"
   ]
  },
  {
   "cell_type": "code",
   "execution_count": null,
   "id": "c9ca804a",
   "metadata": {
    "tags": [],
    "vscode": {
     "languageId": "r"
    }
   },
   "outputs": [],
   "source": [
    "system('dx download -fr bed_maf/maf_flt_8chroms*', intern=TRUE)\n",
    "exome_eids <- read_table('maf_flt_8chroms.fam', col_names = LETTERS[1:6]) %>% pull(B)\n",
    "str(exome_eids)"
   ]
  },
  {
   "cell_type": "markdown",
   "id": "c1bde561",
   "metadata": {},
   "source": [
    "## Simulate height data for 2500 individuals\n",
    "\n",
    "In this step, we sample a participant's height from a normal distribution. The parameters are based on data observed from the British population. You can try inputting real data here - your project has to have access to the *Participant standing height* field. You can retrieve this data using a cohort browser or following the methods in **Notebook 201** (for R) or **103** (for Python)."
   ]
  },
  {
   "cell_type": "code",
   "execution_count": 4,
   "id": "c8a3284e",
   "metadata": {
    "tags": [],
    "vscode": {
     "languageId": "r"
    }
   },
   "outputs": [],
   "source": [
    "pheno <- tibble(eid=exome_eids) %>%\n",
    "    filter(eid>0) %>%\n",
    "    sample_n(2500) %>%\n",
    "    mutate(height = rnorm(length(eid), 177.8, 5.97) %>% round)"
   ]
  },
  {
   "cell_type": "markdown",
   "id": "f2af61a9",
   "metadata": {},
   "source": [
    "## Read and preview the plink bed/bim/fam files"
   ]
  },
  {
   "cell_type": "code",
   "execution_count": null,
   "id": "3e9708c2",
   "metadata": {
    "tags": [],
    "vscode": {
     "languageId": "r"
    }
   },
   "outputs": [],
   "source": [
    "bedfile <- normalizePath(\"maf_flt_8chroms.bed\")\n",
    "tmpfile <- normalizePath(\"bigsnpr_input_prc_height\", mustWork = FALSE)\n",
    "if( length(dir(pattern=tmpfile)) ) unlink(dir(pattern=tmpfile))\n",
    "snp_readBed2(bedfile, backingfile = tmpfile, ind.row=which(exome_eids %in% pheno$eid))"
   ]
  },
  {
   "cell_type": "code",
   "execution_count": null,
   "id": "6d36db42",
   "metadata": {
    "tags": [],
    "vscode": {
     "languageId": "r"
    }
   },
   "outputs": [],
   "source": [
    "obj.bigSNP <- snp_attach(paste0(tmpfile, \".rds\"))\n",
    "str(obj.bigSNP, max.level = 2, strict.width = \"cut\")"
   ]
  },
  {
   "cell_type": "markdown",
   "id": "e708e940",
   "metadata": {},
   "source": [
    "## PCA"
   ]
  },
  {
   "cell_type": "code",
   "execution_count": 7,
   "id": "2e147506",
   "metadata": {
    "tags": [],
    "vscode": {
     "languageId": "r"
    }
   },
   "outputs": [],
   "source": [
    "NCORES = 1\n",
    "G   <- obj.bigSNP$genotypes\n",
    "CHR <- obj.bigSNP$map$chromosome\n",
    "POS <- obj.bigSNP$map$physical.pos\n",
    "ind.excl <- snp_indLRLDR(infos.chr = as.integer(as.factor(CHR)), infos.pos = POS)\n",
    "ind.keep <- snp_clumping(G, infos.chr = as.integer(as.factor(CHR)),exclude = ind.excl,ncores = NCORES)\n",
    "obj.svd <- big_randomSVD(G, fun.scaling = snp_scaleBinom(), ind.col = ind.keep, ncores = NCORES)"
   ]
  },
  {
   "cell_type": "markdown",
   "id": "40a26c95",
   "metadata": {},
   "source": [
    "## Polygenic risk scores"
   ]
  },
  {
   "cell_type": "markdown",
   "id": "010d21b8",
   "metadata": {},
   "source": [
    "### Divide the dataset into train set and test set\n",
    "\n",
    "We use 2000 individuals to train our model and 500 to test it"
   ]
  },
  {
   "cell_type": "code",
   "execution_count": 8,
   "id": "b0f0e698",
   "metadata": {
    "tags": [],
    "vscode": {
     "languageId": "r"
    }
   },
   "outputs": [],
   "source": [
    "ind.train <- sample(nrow(G), 2000)\n",
    "ind.test <- setdiff(rows_along(G), ind.train)"
   ]
  },
  {
   "cell_type": "markdown",
   "id": "f7a07c1c",
   "metadata": {},
   "source": [
    "### Train linear regression model"
   ]
  },
  {
   "cell_type": "code",
   "execution_count": 9,
   "id": "e4895372",
   "metadata": {
    "tags": [],
    "vscode": {
     "languageId": "r"
    }
   },
   "outputs": [],
   "source": [
    "cmsa.lin <- big_spLinReg(\n",
    "    X = G, \n",
    "    y.train = pheno$height[ind.train], \n",
    "    ind.train = ind.train, \n",
    "    covar.train = obj.svd$u[ind.train, ],\n",
    "    alphas = c(1, 0.5, 0.05, 0.001),\n",
    "    ncores = NCORES\n",
    ")"
   ]
  },
  {
   "cell_type": "markdown",
   "id": "5c048f9f",
   "metadata": {},
   "source": [
    "### Get the model predictions for the test set"
   ]
  },
  {
   "cell_type": "code",
   "execution_count": 10,
   "id": "c155f42c",
   "metadata": {
    "tags": [],
    "vscode": {
     "languageId": "r"
    }
   },
   "outputs": [],
   "source": [
    "preds <- predict(cmsa.lin, X = G, ind.row = ind.test, covar.row = obj.svd$u[ind.test, ])"
   ]
  },
  {
   "cell_type": "markdown",
   "id": "39eeb5ec",
   "metadata": {},
   "source": [
    "### Calculate the root-mean-square error (RMSE) of the predictions\n",
    "\n",
    "Please note that since we simulated the phenotypic data there is no actual linkage between phenotypes and genotypes.\n",
    "Running this model on phenotypes obtained from actual participants and a significantly larger sample should yield a smaller error."
   ]
  },
  {
   "cell_type": "code",
   "execution_count": null,
   "id": "10e9d4c5",
   "metadata": {
    "tags": [],
    "vscode": {
     "languageId": "r"
    }
   },
   "outputs": [],
   "source": [
    "RMSE = function(m, o){\n",
    "  sqrt(mean((m - o)^2))\n",
    "}\n",
    "RMSE(preds, pheno$height[ind.test])\n"
   ]
  },
  {
   "cell_type": "markdown",
   "id": "5e6db6ac",
   "metadata": {},
   "source": [
    "We can observe that the RMSE value of 5.94cm is nearly identical to the standard deviation of height used in our simulation (5.97cm).\n",
    "\n",
    "To further get further intuition about the meaning of RMSE in predictive models can calculate the predictor that will predict everyone's height as the mean of the population.\n",
    "We can see that, as expected, we got very similar model precision to our model based on random data (5.94cm)."
   ]
  },
  {
   "cell_type": "code",
   "execution_count": null,
   "id": "e9d37250",
   "metadata": {
    "tags": [],
    "vscode": {
     "languageId": "r"
    }
   },
   "outputs": [],
   "source": [
    "RMSE(rep(177.8, length(ind.test)), pheno$height[ind.test])"
   ]
  },
  {
   "cell_type": "markdown",
   "id": "b6fd8b41",
   "metadata": {},
   "source": [
    "### Calculate R-square\n",
    "\n",
    "Squared correlation is another useful metric for linear model performance.\n",
    "Since our model is based on randomly generated phenotypes this value is close to 0."
   ]
  },
  {
   "cell_type": "code",
   "execution_count": null,
   "id": "414d7f51",
   "metadata": {
    "tags": [],
    "vscode": {
     "languageId": "r"
    }
   },
   "outputs": [],
   "source": [
    "cor(preds, pheno$height[ind.test])^2"
   ]
  },
  {
   "cell_type": "markdown",
   "id": "1bd36876",
   "metadata": {},
   "source": [
    "## Closing remarks\n",
    "\n",
    "In conclusion, if this model would be run on actual data we would conclude no linkage between variants of human height.\n",
    "In reality, genetic variants can explain ~60% of phenotypic variance for height (https://www.ncbi.nlm.nih.gov/pmc/articles/PMC4250049/) with a typical PRC model achieving an R-square of ~0.4 for variants alone and ~0.7 for models combing biological sex (https://academic.oup.com/jcem/article/106/7/1918/6206752)."
   ]
  }
 ],
 "metadata": {
  "kernelspec": {
   "display_name": "R",
   "language": "R",
   "name": "ir"
  },
  "language_info": {
   "codemirror_mode": "r",
   "file_extension": ".r",
   "mimetype": "text/x-r-source",
   "name": "R",
   "pygments_lexer": "r",
   "version": "4.2.2"
  }
 },
 "nbformat": 4,
 "nbformat_minor": 5
}
