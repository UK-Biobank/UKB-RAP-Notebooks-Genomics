{
 "cells": [
  {
   "cell_type": "markdown",
   "id": "7b94b526",
   "metadata": {},
   "source": [
    "# Annotate SNPs to dbSNP and interactively profile ontologies \n",
    "\n",
    "In this notebook we will annotate SNPs using a dbSNP and retrieve overrepresented GO terms, using the list of significant variants from the GWAS on participant height in **Notebook G202**.\n",
    "\n",
    "We will also retrieve and plot overrepresented GO terms.\n",
    "\n",
    "- runtime: 30m (largely software install)\n",
    "- recommended instance: mem1_ssd1_v2_x16\n",
    "- estimated cost: <£0.70\n",
    "\n",
    "This notebook depends on:\n",
    "* **Bioconductor install**\n",
    "* **Notebook G202** - height_signif_snp.csv"
   ]
  },
  {
   "cell_type": "markdown",
   "id": "9f63bc6f",
   "metadata": {},
   "source": [
    "## Install required R packages\n",
    "\n",
    "Function `p_load` from `pacman` loads packages into R.\n",
    "If a given package missing it will be automatically installed - this can take a considerable amount of time for packages that need C or FORTRAN code compilation.\n",
    "\n",
    "The following packages are needed to run this notebook:\n",
    "\n",
    "- reticulate - R-Python interface, required to use `dxdata` package that connects to Spark database and allows retrieval of phenotypic data\n",
    "- `dplyr` - tabular data manipulation in R, require to pre-process and filtering of phenotypic data\n",
    "- `readr` - read and write tabular file formats: CSV, TSV, TDF, etc.\n",
    "- `skimr` - provide summary statistics about variables in data frames, `tibble` objects, data tables and vectors\n",
    "- `gprofiler2` - A toolset for functional enrichment analysis and visualization of genes and variants\n",
    "- `SNPlocs.Hsapiens.dbSNP151.GRCh38` - a snapshot of dbSNP\n"
   ]
  },
  {
   "cell_type": "markdown",
   "id": "9bd111d6",
   "metadata": {},
   "source": [
    "## Install required Bioconductor packages"
   ]
  },
  {
   "cell_type": "code",
   "execution_count": 2,
   "id": "fd217a71",
   "metadata": {
    "tags": [],
    "vscode": {
     "languageId": "r"
    }
   },
   "outputs": [],
   "source": [
    "if(!require(pacman)) install.packages(\"pacman\")\n",
    "pacman::p_load(dplyr, skimr, readr, gprofiler2)"
   ]
  },
  {
   "cell_type": "code",
   "execution_count": 15,
   "id": "a411b137",
   "metadata": {
    "tags": [],
    "vscode": {
     "languageId": "r"
    }
   },
   "outputs": [],
   "source": [
    "# Install BioConductor contingent on R version\n",
    "if(as.double(R.version$minor) < 3.0) {\n",
    "  version <- '3.16'} else {\n",
    "  version <- '3.17'}\n",
    "\n",
    "BiocManager::install(version = version, ask=FALSE)\n",
    "if(!require(GenomicRanges)) BiocManager::install(\"GenomicRanges\", version=version, ask=FALSE)\n",
    "if(!require(SNPlocs.Hsapiens.dbSNP155.GRCh38)) BiocManager::install(\"SNPlocs.Hsapiens.dbSNP155.GRCh38\", version=version, ask=FALSE)"
   ]
  },
  {
   "cell_type": "code",
   "execution_count": 4,
   "id": "ad4e0b3e",
   "metadata": {
    "tags": [],
    "vscode": {
     "languageId": "r"
    }
   },
   "outputs": [],
   "source": [
    "pacman::p_load(GenomicRanges, SNPlocs.Hsapiens.dbSNP155.GRCh38)"
   ]
  },
  {
   "cell_type": "markdown",
   "id": "d6b2464d",
   "metadata": {},
   "source": [
    "## Load output of GWAS"
   ]
  },
  {
   "cell_type": "markdown",
   "id": "0f18d73b",
   "metadata": {},
   "source": [
    "In this step, we load a list of variants. In the following example, we use the list of significant variants from GWAS on the participant height example from notebook **G202**."
   ]
  },
  {
   "cell_type": "code",
   "execution_count": null,
   "id": "3f5cd426",
   "metadata": {
    "tags": [],
    "vscode": {
     "languageId": "r"
    }
   },
   "outputs": [],
   "source": [
    "system('dx download gwas/height_signif_snp.csv') #From Notebook G202\n",
    "snp <- readr::read_csv('height_signif_snp.csv', show_col_types = FALSE)\n",
    "head(snp)"
   ]
  },
  {
   "cell_type": "markdown",
   "id": "a9ea3a66",
   "metadata": {},
   "source": [
    "## Convert variant list to GenomicRanges format"
   ]
  },
  {
   "cell_type": "markdown",
   "id": "57a39ed8",
   "metadata": {},
   "source": [
    "In this step, we use the genomic coordinates (chromosome and physical position) of variants to construct the GenomicRanges object.\n",
    "This allows us to simply query the dbSNP based on variant positions and assign RSID to known variants."
   ]
  },
  {
   "cell_type": "code",
   "execution_count": 6,
   "id": "62650ec9",
   "metadata": {
    "tags": [],
    "vscode": {
     "languageId": "r"
    }
   },
   "outputs": [],
   "source": [
    "snp_gr <- makeGRangesFromDataFrame(\n",
    "    snp, \n",
    "    seqnames.field = 'chromosome', \n",
    "    start.field = 'physical.pos', \n",
    "    end.field = 'physical.pos', \n",
    "    keep.extra.columns = TRUE)"
   ]
  },
  {
   "cell_type": "markdown",
   "id": "b150a434",
   "metadata": {},
   "source": [
    "The GRanges object consists of 3 mandatory fields: `seqnames` - the name of the chromosome, `ranges` - position on the chromosome and `strand` - the strand, where `*` denotes any strand.\n",
    "In addition, there can be an arbitrary number of additional annotation fields. We use them to store marker ID, the information about alleles and statistics from GWAS analysis. "
   ]
  },
  {
   "cell_type": "code",
   "execution_count": null,
   "id": "82cddfb2",
   "metadata": {
    "tags": [],
    "vscode": {
     "languageId": "r"
    }
   },
   "outputs": [],
   "source": [
    "snp_gr"
   ]
  },
  {
   "cell_type": "markdown",
   "id": "e5fe0766",
   "metadata": {},
   "source": [
    "## Load and inspect dbSNP"
   ]
  },
  {
   "cell_type": "markdown",
   "id": "e696bb5b",
   "metadata": {},
   "source": [
    "The following code loads the local R instance of dbSNP, version 151 for the GRCh38 reference genome. \n",
    "We can see how many variants are annotated on each chromosome."
   ]
  },
  {
   "cell_type": "code",
   "execution_count": null,
   "id": "8daab29d",
   "metadata": {
    "tags": [],
    "vscode": {
     "languageId": "r"
    }
   },
   "outputs": [],
   "source": [
    "snps <- SNPlocs.Hsapiens.dbSNP155.GRCh38\n",
    "snpcount(snps) %>% as_tibble(rownames = 'chr') %>% head"
   ]
  },
  {
   "cell_type": "markdown",
   "id": "bb52345c",
   "metadata": {},
   "source": [
    "## Annotate variants with RefSNP IDs based on genomic coordinates"
   ]
  },
  {
   "cell_type": "code",
   "execution_count": 9,
   "id": "594b2984",
   "metadata": {
    "tags": [],
    "vscode": {
     "languageId": "r"
    }
   },
   "outputs": [],
   "source": [
    "my_snps <- snpsByOverlaps(snps, snp_gr)"
   ]
  },
  {
   "cell_type": "markdown",
   "id": "6910ba7f",
   "metadata": {},
   "source": [
    "This function creates a new GRanges object with `RefSNP_id` annotation filed:"
   ]
  },
  {
   "cell_type": "code",
   "execution_count": null,
   "id": "e624e706",
   "metadata": {
    "tags": [],
    "vscode": {
     "languageId": "r"
    }
   },
   "outputs": [],
   "source": [
    "my_snps"
   ]
  },
  {
   "cell_type": "markdown",
   "id": "78708143",
   "metadata": {},
   "source": [
    "## Retrieve the overrepresented GO terms for variants"
   ]
  },
  {
   "cell_type": "markdown",
   "id": "01e98bb6",
   "metadata": {},
   "source": [
    "In this step, we will be using functions from the `gprofiler2` package to find overrepresented ontology terms enriched for our SNP IDs and visualize them as interactive plots."
   ]
  },
  {
   "cell_type": "code",
   "execution_count": 11,
   "id": "6ccbaf6e",
   "metadata": {
    "tags": [],
    "vscode": {
     "languageId": "r"
    }
   },
   "outputs": [],
   "source": [
    "gostres <- gost(query = my_snps$RefSNP_id, organism = \"hsapiens\", significant = FALSE) #significant = TRUE for sign. SNPs"
   ]
  },
  {
   "cell_type": "markdown",
   "id": "efcce426",
   "metadata": {},
   "source": [
    "## Visualize the statistical significance of GO terms"
   ]
  },
  {
   "cell_type": "code",
   "execution_count": 12,
   "id": "1a78807c",
   "metadata": {
    "tags": [],
    "vscode": {
     "languageId": "r"
    }
   },
   "outputs": [],
   "source": [
    "p <- gostplot(gostres, capped = FALSE)"
   ]
  },
  {
   "cell_type": "markdown",
   "id": "dff692e2",
   "metadata": {},
   "source": [
    "The following plot visualizes the overrepresented terms. It is similar to the Manhattan plot - the terms are dispersed and grouped by ontology on X-axis, while the negative log of the p-value from the hypergeometric test for overrepresentation is plotted on Y-axis. This transformation makes the visualization of statistical significance more intuitive, with a higher value on Y-axis denoting a more significant term "
   ]
  },
  {
   "cell_type": "code",
   "execution_count": null,
   "id": "5ef394f8",
   "metadata": {
    "tags": [],
    "vscode": {
     "languageId": "r"
    }
   },
   "outputs": [],
   "source": [
    "p"
   ]
  },
  {
   "cell_type": "markdown",
   "id": "f27b7a3e",
   "metadata": {},
   "source": [
    "These results can be also obtained as a table:"
   ]
  },
  {
   "cell_type": "code",
   "execution_count": null,
   "id": "489df3e2",
   "metadata": {
    "tags": [],
    "vscode": {
     "languageId": "r"
    }
   },
   "outputs": [],
   "source": [
    "gostres$result"
   ]
  },
  {
   "cell_type": "markdown",
   "id": "2f2e6843",
   "metadata": {},
   "source": [
    "## Annotate variants with gene IDs"
   ]
  },
  {
   "cell_type": "markdown",
   "id": "7671266f",
   "metadata": {},
   "source": [
    "Finally, we can use the `gsnpense` function to check which genes are affected by these variants:"
   ]
  },
  {
   "cell_type": "code",
   "execution_count": null,
   "id": "11d34998",
   "metadata": {
    "tags": [],
    "vscode": {
     "languageId": "r"
    }
   },
   "outputs": [],
   "source": [
    "gsnpense(query = my_snps$RefSNP_id)"
   ]
  },
  {
   "cell_type": "code",
   "execution_count": null,
   "id": "11c99de2",
   "metadata": {
    "vscode": {
     "languageId": "r"
    }
   },
   "outputs": [],
   "source": []
  }
 ],
 "metadata": {
  "kernelspec": {
   "display_name": "R",
   "language": "R",
   "name": "ir"
  },
  "language_info": {
   "codemirror_mode": "r",
   "file_extension": ".r",
   "mimetype": "text/x-r-source",
   "name": "R",
   "pygments_lexer": "r",
   "version": "4.2.2"
  }
 },
 "nbformat": 4,
 "nbformat_minor": 5
}
